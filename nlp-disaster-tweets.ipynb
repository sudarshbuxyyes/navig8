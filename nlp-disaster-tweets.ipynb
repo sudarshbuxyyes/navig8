{
 "cells": [
  {
   "cell_type": "code",
   "execution_count": 1,
   "metadata": {
    "_cell_guid": "b1076dfc-b9ad-4769-8c92-a6c4dae69d19",
    "_uuid": "8f2839f25d086af736a60e9eeb907d3b93b6e0e5",
    "execution": {
     "iopub.execute_input": "2021-02-17T14:23:07.961765Z",
     "iopub.status.busy": "2021-02-17T14:23:07.960848Z",
     "iopub.status.idle": "2021-02-17T14:23:07.967067Z",
     "shell.execute_reply": "2021-02-17T14:23:07.967561Z"
    },
    "papermill": {
     "duration": 0.025948,
     "end_time": "2021-02-17T14:23:07.967931",
     "exception": false,
     "start_time": "2021-02-17T14:23:07.941983",
     "status": "completed"
    },
    "tags": []
   },
   "outputs": [
    {
     "name": "stdout",
     "output_type": "stream",
     "text": [
      "/kaggle/input/nlp-getting-started/sample_submission.csv\n",
      "/kaggle/input/nlp-getting-started/train.csv\n",
      "/kaggle/input/nlp-getting-started/test.csv\n"
     ]
    }
   ],
   "source": [
    "# This Python 3 environment comes with many helpful analytics libraries installed\n",
    "# It is defined by the kaggle/python Docker image: https://github.com/kaggle/docker-python\n",
    "# For example, here's several helpful packages to load\n",
    "\n",
    "import numpy as np # linear algebra\n",
    "import pandas as pd # data processing, CSV file I/O (e.g. pd.read_csv)\n",
    "\n",
    "# Input data files are available in the read-only \"../input/\" directory\n",
    "# For example, running this (by clicking run or pressing Shift+Enter) will list all files under the input directory\n",
    "\n",
    "import os\n",
    "for dirname, _, filenames in os.walk('/kaggle/input'):\n",
    "    for filename in filenames:\n",
    "        print(os.path.join(dirname, filename))\n",
    "\n",
    "# You can write up to 20GB to the current directory (/kaggle/working/) that gets preserved as output when you create a version using \"Save & Run All\" \n",
    "# You can also write temporary files to /kaggle/temp/, but they won't be saved outside of the current session"
   ]
  },
  {
   "cell_type": "code",
   "execution_count": 2,
   "metadata": {
    "execution": {
     "iopub.execute_input": "2021-02-17T14:23:07.994117Z",
     "iopub.status.busy": "2021-02-17T14:23:07.993340Z",
     "iopub.status.idle": "2021-02-17T14:23:08.075181Z",
     "shell.execute_reply": "2021-02-17T14:23:08.075834Z"
    },
    "papermill": {
     "duration": 0.097653,
     "end_time": "2021-02-17T14:23:08.076033",
     "exception": false,
     "start_time": "2021-02-17T14:23:07.978380",
     "status": "completed"
    },
    "tags": []
   },
   "outputs": [
    {
     "data": {
      "text/html": [
       "<div>\n",
       "<style scoped>\n",
       "    .dataframe tbody tr th:only-of-type {\n",
       "        vertical-align: middle;\n",
       "    }\n",
       "\n",
       "    .dataframe tbody tr th {\n",
       "        vertical-align: top;\n",
       "    }\n",
       "\n",
       "    .dataframe thead th {\n",
       "        text-align: right;\n",
       "    }\n",
       "</style>\n",
       "<table border=\"1\" class=\"dataframe\">\n",
       "  <thead>\n",
       "    <tr style=\"text-align: right;\">\n",
       "      <th></th>\n",
       "      <th>id</th>\n",
       "      <th>keyword</th>\n",
       "      <th>location</th>\n",
       "      <th>text</th>\n",
       "      <th>target</th>\n",
       "    </tr>\n",
       "  </thead>\n",
       "  <tbody>\n",
       "    <tr>\n",
       "      <th>0</th>\n",
       "      <td>1</td>\n",
       "      <td>NaN</td>\n",
       "      <td>NaN</td>\n",
       "      <td>Our Deeds are the Reason of this #earthquake M...</td>\n",
       "      <td>1</td>\n",
       "    </tr>\n",
       "    <tr>\n",
       "      <th>1</th>\n",
       "      <td>4</td>\n",
       "      <td>NaN</td>\n",
       "      <td>NaN</td>\n",
       "      <td>Forest fire near La Ronge Sask. Canada</td>\n",
       "      <td>1</td>\n",
       "    </tr>\n",
       "    <tr>\n",
       "      <th>2</th>\n",
       "      <td>5</td>\n",
       "      <td>NaN</td>\n",
       "      <td>NaN</td>\n",
       "      <td>All residents asked to 'shelter in place' are ...</td>\n",
       "      <td>1</td>\n",
       "    </tr>\n",
       "    <tr>\n",
       "      <th>3</th>\n",
       "      <td>6</td>\n",
       "      <td>NaN</td>\n",
       "      <td>NaN</td>\n",
       "      <td>13,000 people receive #wildfires evacuation or...</td>\n",
       "      <td>1</td>\n",
       "    </tr>\n",
       "    <tr>\n",
       "      <th>4</th>\n",
       "      <td>7</td>\n",
       "      <td>NaN</td>\n",
       "      <td>NaN</td>\n",
       "      <td>Just got sent this photo from Ruby #Alaska as ...</td>\n",
       "      <td>1</td>\n",
       "    </tr>\n",
       "    <tr>\n",
       "      <th>5</th>\n",
       "      <td>8</td>\n",
       "      <td>NaN</td>\n",
       "      <td>NaN</td>\n",
       "      <td>#RockyFire Update =&gt; California Hwy. 20 closed...</td>\n",
       "      <td>1</td>\n",
       "    </tr>\n",
       "    <tr>\n",
       "      <th>6</th>\n",
       "      <td>10</td>\n",
       "      <td>NaN</td>\n",
       "      <td>NaN</td>\n",
       "      <td>#flood #disaster Heavy rain causes flash flood...</td>\n",
       "      <td>1</td>\n",
       "    </tr>\n",
       "    <tr>\n",
       "      <th>7</th>\n",
       "      <td>13</td>\n",
       "      <td>NaN</td>\n",
       "      <td>NaN</td>\n",
       "      <td>I'm on top of the hill and I can see a fire in...</td>\n",
       "      <td>1</td>\n",
       "    </tr>\n",
       "    <tr>\n",
       "      <th>8</th>\n",
       "      <td>14</td>\n",
       "      <td>NaN</td>\n",
       "      <td>NaN</td>\n",
       "      <td>There's an emergency evacuation happening now ...</td>\n",
       "      <td>1</td>\n",
       "    </tr>\n",
       "    <tr>\n",
       "      <th>9</th>\n",
       "      <td>15</td>\n",
       "      <td>NaN</td>\n",
       "      <td>NaN</td>\n",
       "      <td>I'm afraid that the tornado is coming to our a...</td>\n",
       "      <td>1</td>\n",
       "    </tr>\n",
       "  </tbody>\n",
       "</table>\n",
       "</div>"
      ],
      "text/plain": [
       "   id keyword location                                               text  \\\n",
       "0   1     NaN      NaN  Our Deeds are the Reason of this #earthquake M...   \n",
       "1   4     NaN      NaN             Forest fire near La Ronge Sask. Canada   \n",
       "2   5     NaN      NaN  All residents asked to 'shelter in place' are ...   \n",
       "3   6     NaN      NaN  13,000 people receive #wildfires evacuation or...   \n",
       "4   7     NaN      NaN  Just got sent this photo from Ruby #Alaska as ...   \n",
       "5   8     NaN      NaN  #RockyFire Update => California Hwy. 20 closed...   \n",
       "6  10     NaN      NaN  #flood #disaster Heavy rain causes flash flood...   \n",
       "7  13     NaN      NaN  I'm on top of the hill and I can see a fire in...   \n",
       "8  14     NaN      NaN  There's an emergency evacuation happening now ...   \n",
       "9  15     NaN      NaN  I'm afraid that the tornado is coming to our a...   \n",
       "\n",
       "   target  \n",
       "0       1  \n",
       "1       1  \n",
       "2       1  \n",
       "3       1  \n",
       "4       1  \n",
       "5       1  \n",
       "6       1  \n",
       "7       1  \n",
       "8       1  \n",
       "9       1  "
      ]
     },
     "execution_count": 2,
     "metadata": {},
     "output_type": "execute_result"
    }
   ],
   "source": [
    "import pandas as pd\n",
    "import numpy as np\n",
    "tweets = pd.read_csv('../input/nlp-getting-started/train.csv',encoding = 'latin-1')\n",
    "tweets.head(10)\n"
   ]
  },
  {
   "cell_type": "markdown",
   "metadata": {
    "papermill": {
     "duration": 0.009953,
     "end_time": "2021-02-17T14:23:08.097791",
     "exception": false,
     "start_time": "2021-02-17T14:23:08.087838",
     "status": "completed"
    },
    "tags": []
   },
   "source": [
    "Pre-Processing..."
   ]
  },
  {
   "cell_type": "code",
   "execution_count": 3,
   "metadata": {
    "execution": {
     "iopub.execute_input": "2021-02-17T14:23:08.126063Z",
     "iopub.status.busy": "2021-02-17T14:23:08.125191Z",
     "iopub.status.idle": "2021-02-17T14:23:09.867069Z",
     "shell.execute_reply": "2021-02-17T14:23:09.866509Z"
    },
    "papermill": {
     "duration": 1.759352,
     "end_time": "2021-02-17T14:23:09.867260",
     "exception": false,
     "start_time": "2021-02-17T14:23:08.107908",
     "status": "completed"
    },
    "tags": []
   },
   "outputs": [],
   "source": [
    "import string\n",
    "from nltk.corpus import stopwords\n",
    "from nltk.corpus import words\n",
    "from nltk.stem import WordNetLemmatizer\n",
    "from nltk import tokenize\n",
    "\n",
    "def text_clean(txt):\n",
    "    Stop = stopwords.words('english')\n",
    "    no_punc = [char for char in txt if char not in string.punctuation]\n",
    "    no_punc = ''.join(no_punc)\n",
    "    return ' '.join([word for word in no_punc.split() if (word.lower() not in Stop)])\n"
   ]
  },
  {
   "cell_type": "code",
   "execution_count": 4,
   "metadata": {
    "execution": {
     "iopub.execute_input": "2021-02-17T14:23:09.901937Z",
     "iopub.status.busy": "2021-02-17T14:23:09.901096Z",
     "iopub.status.idle": "2021-02-17T14:23:11.260006Z",
     "shell.execute_reply": "2021-02-17T14:23:11.260498Z"
    },
    "papermill": {
     "duration": 1.382978,
     "end_time": "2021-02-17T14:23:11.260704",
     "exception": false,
     "start_time": "2021-02-17T14:23:09.877726",
     "status": "completed"
    },
    "tags": []
   },
   "outputs": [
    {
     "name": "stdout",
     "output_type": "stream",
     "text": [
      "CPU times: user 1.22 s, sys: 126 ms, total: 1.35 s\n",
      "Wall time: 1.35 s\n"
     ]
    },
    {
     "data": {
      "text/plain": [
       "0            Deeds Reason earthquake May ALLAH Forgive us\n",
       "1                   Forest fire near La Ronge Sask Canada\n",
       "2       residents asked shelter place notified officer...\n",
       "3       13000 people receive wildfires evacuation orde...\n",
       "4       got sent photo Ruby Alaska smoke wildfires pou...\n",
       "                              ...                        \n",
       "7608    Two giant cranes holding bridge collapse nearb...\n",
       "7609    ariaahrary TheTawniest control wild fires Cali...\n",
       "7610    M194 0104 UTC5km Volcano Hawaii httptcozDtoyd8EbJ\n",
       "7611    Police investigating ebike collided car Little...\n",
       "7612    Latest Homes Razed Northern California Wildfir...\n",
       "Name: clean, Length: 7613, dtype: object"
      ]
     },
     "execution_count": 4,
     "metadata": {},
     "output_type": "execute_result"
    }
   ],
   "source": [
    "%%time\n",
    "tweets['clean'] = tweets.text.apply(text_clean)\n",
    "tweets['clean']"
   ]
  },
  {
   "cell_type": "markdown",
   "metadata": {
    "papermill": {
     "duration": 0.010553,
     "end_time": "2021-02-17T14:23:11.282595",
     "exception": false,
     "start_time": "2021-02-17T14:23:11.272042",
     "status": "completed"
    },
    "tags": []
   },
   "source": [
    "Counter for number and frequency of words:"
   ]
  },
  {
   "cell_type": "code",
   "execution_count": 5,
   "metadata": {
    "execution": {
     "iopub.execute_input": "2021-02-17T14:23:11.310921Z",
     "iopub.status.busy": "2021-02-17T14:23:11.310237Z",
     "iopub.status.idle": "2021-02-17T14:23:11.361726Z",
     "shell.execute_reply": "2021-02-17T14:23:11.360941Z"
    },
    "papermill": {
     "duration": 0.068564,
     "end_time": "2021-02-17T14:23:11.361903",
     "exception": false,
     "start_time": "2021-02-17T14:23:11.293339",
     "status": "completed"
    },
    "tags": []
   },
   "outputs": [
    {
     "name": "stdout",
     "output_type": "stream",
     "text": [
      "[('fire', 178), ('news', 136), ('via', 121), ('disaster', 117), ('california', 111), ('suicide', 110), ('police', 107), ('amp', 106), ('people', 105), ('killed', 93), ('like', 92), ('hiroshima', 86), ('storm', 85), ('crash', 84), ('fires', 84), ('us', 81), ('families', 81), ('train', 79), ('emergency', 76), ('buildings', 75), ('bomb', 74), ('2', 73), ('two', 71), ('mh370', 71), ('nuclear', 70), ('attack', 69), ('video', 69), ('wildfire', 69), ('get', 66), ('accident', 66), ('bombing', 66), ('one', 65), ('northern', 64), ('burning', 64), ('dead', 63), ('pm', 62), ('legionnaires', 62), ('bomber', 60), ('homes', 58), ('car', 57), ('still', 57), ('war', 57), ('im', 56), ('new', 56), ('atomic', 56), ('obama', 54), ('fatal', 54), ('years', 53), ('collapse', 51), ('may', 50)]\n"
     ]
    }
   ],
   "source": [
    "from collections import Counter\n",
    "words = tweets[tweets.target==1].clean.apply(lambda x: [word.lower() for word in x.split()])\n",
    "reg_words = Counter()\n",
    "for msg in words:\n",
    "    reg_words.update(msg)\n",
    "print(reg_words.most_common(50))    "
   ]
  },
  {
   "cell_type": "code",
   "execution_count": 6,
   "metadata": {
    "execution": {
     "iopub.execute_input": "2021-02-17T14:23:11.389905Z",
     "iopub.status.busy": "2021-02-17T14:23:11.388920Z",
     "iopub.status.idle": "2021-02-17T14:23:11.437363Z",
     "shell.execute_reply": "2021-02-17T14:23:11.436843Z"
    },
    "papermill": {
     "duration": 0.063837,
     "end_time": "2021-02-17T14:23:11.437564",
     "exception": false,
     "start_time": "2021-02-17T14:23:11.373727",
     "status": "completed"
    },
    "tags": []
   },
   "outputs": [
    {
     "name": "stdout",
     "output_type": "stream",
     "text": [
      "[('like', 253), ('im', 243), ('amp', 192), ('new', 168), ('get', 163), ('dont', 141), ('one', 128), ('body', 112), ('via', 99), ('would', 97), ('video', 96), ('people', 91), ('love', 89), ('2', 86), ('know', 85), ('back', 84), ('time', 83), ('us', 83), ('got', 83), ('see', 82), ('cant', 81), ('emergency', 81), ('full', 81), ('day', 78), ('youtube', 76), ('going', 75), ('still', 72), ('fire', 72), ('go', 67), ('want', 67), ('good', 67), ('think', 66), ('3', 64), ('man', 62), ('world', 62), ('lol', 61), ('rt', 60), ('life', 60), ('u', 59), ('youre', 58), ('first', 58), ('news', 57), ('last', 56), ('burning', 56), ('really', 55), ('way', 55), ('need', 55), ('make', 54), ('work', 54), ('best', 53)]\n"
     ]
    }
   ],
   "source": [
    "words = tweets[tweets.target==0].clean.apply(lambda x: [word.lower() for word in x.split()])\n",
    "spam_words = Counter()\n",
    "for msg in words:\n",
    "    spam_words.update(msg)\n",
    "print(spam_words.most_common(50))    "
   ]
  },
  {
   "cell_type": "code",
   "execution_count": 7,
   "metadata": {
    "execution": {
     "iopub.execute_input": "2021-02-17T14:23:11.466761Z",
     "iopub.status.busy": "2021-02-17T14:23:11.466042Z",
     "iopub.status.idle": "2021-02-17T14:23:11.468391Z",
     "shell.execute_reply": "2021-02-17T14:23:11.468878Z"
    },
    "papermill": {
     "duration": 0.019569,
     "end_time": "2021-02-17T14:23:11.469056",
     "exception": false,
     "start_time": "2021-02-17T14:23:11.449487",
     "status": "completed"
    },
    "tags": []
   },
   "outputs": [],
   "source": [
    "X = tweets.clean\n",
    "Y = tweets.target\n"
   ]
  },
  {
   "cell_type": "code",
   "execution_count": 8,
   "metadata": {
    "execution": {
     "iopub.execute_input": "2021-02-17T14:23:11.496919Z",
     "iopub.status.busy": "2021-02-17T14:23:11.496267Z",
     "iopub.status.idle": "2021-02-17T14:23:12.090437Z",
     "shell.execute_reply": "2021-02-17T14:23:12.089704Z"
    },
    "papermill": {
     "duration": 0.60926,
     "end_time": "2021-02-17T14:23:12.090616",
     "exception": false,
     "start_time": "2021-02-17T14:23:11.481356",
     "status": "completed"
    },
    "tags": []
   },
   "outputs": [
    {
     "data": {
      "text/plain": [
       "0                             happened terrible car crash\n",
       "1       Heard earthquake different cities stay safe ev...\n",
       "2       forest fire spot pond geese fleeing across str...\n",
       "3                   Apocalypse lighting Spokane wildfires\n",
       "4                  Typhoon Soudelor kills 28 China Taiwan\n",
       "                              ...                        \n",
       "3258    EARTHQUAKE SAFETY LOS ANGELES ÂÃÃ SAFETY FA...\n",
       "3259    Storm RI worse last hurricane cityamp3others h...\n",
       "3260      Green Line derailment Chicago httptcoUtbXLcBIuY\n",
       "3261    MEG issues Hazardous Weather Outlook HWO httpt...\n",
       "3262    CityofCalgary activated Municipal Emergency Pl...\n",
       "Name: clean, Length: 3263, dtype: object"
      ]
     },
     "execution_count": 8,
     "metadata": {},
     "output_type": "execute_result"
    }
   ],
   "source": [
    "tweets2 = pd.read_csv('../input/nlp-getting-started/test.csv', encoding = 'latin-1')\n",
    "tweets2['clean'] = tweets2.text.apply(text_clean)\n",
    "tweets2['clean']\n"
   ]
  },
  {
   "cell_type": "code",
   "execution_count": 9,
   "metadata": {
    "execution": {
     "iopub.execute_input": "2021-02-17T14:23:12.130728Z",
     "iopub.status.busy": "2021-02-17T14:23:12.129791Z",
     "iopub.status.idle": "2021-02-17T14:23:12.471631Z",
     "shell.execute_reply": "2021-02-17T14:23:12.472173Z"
    },
    "papermill": {
     "duration": 0.369037,
     "end_time": "2021-02-17T14:23:12.472388",
     "exception": false,
     "start_time": "2021-02-17T14:23:12.103351",
     "status": "completed"
    },
    "tags": []
   },
   "outputs": [
    {
     "name": "stdout",
     "output_type": "stream",
     "text": [
      "  (0, 1157)\t1\n",
      "  (0, 4540)\t1\n",
      "  (0, 5329)\t1\n",
      "  (0, 6460)\t1\n",
      "  (0, 14680)\t1\n",
      "  (0, 17574)\t1\n",
      "  (0, 21321)\t1\n",
      "  (1, 2982)\t1\n",
      "  (1, 6249)\t1\n",
      "  (1, 6450)\t1\n",
      "  (1, 13746)\t1\n",
      "  (1, 15524)\t1\n",
      "  (1, 18134)\t1\n",
      "  (1, 18424)\t1\n",
      "  (2, 1616)\t1\n",
      "  (2, 5770)\t1\n",
      "  (2, 5866)\t1\n",
      "  (2, 15799)\t1\n",
      "  (2, 15966)\t1\n",
      "  (2, 16164)\t1\n",
      "  (2, 16747)\t2\n",
      "  (2, 17848)\t1\n",
      "  (2, 18824)\t2\n",
      "  (3, 141)\t1\n",
      "  (3, 2935)\t1\n",
      "  :\t:\n",
      "  (7610, 14396)\t1\n",
      "  (7610, 21365)\t1\n",
      "  (7610, 21590)\t1\n",
      "  (7611, 3045)\t1\n",
      "  (7611, 3681)\t1\n",
      "  (7611, 5353)\t2\n",
      "  (7611, 12834)\t1\n",
      "  (7611, 12963)\t1\n",
      "  (7611, 14132)\t1\n",
      "  (7611, 15739)\t1\n",
      "  (7611, 16848)\t1\n",
      "  (7611, 16902)\t1\n",
      "  (7611, 17975)\t1\n",
      "  (7611, 18702)\t1\n",
      "  (7611, 19871)\t1\n",
      "  (7611, 20523)\t1\n",
      "  (7612, 773)\t1\n",
      "  (7612, 2935)\t1\n",
      "  (7612, 7722)\t1\n",
      "  (7612, 12258)\t1\n",
      "  (7612, 13838)\t1\n",
      "  (7612, 15598)\t1\n",
      "  (7612, 15768)\t1\n",
      "  (7612, 17514)\t1\n",
      "  (7612, 21963)\t1\n"
     ]
    }
   ],
   "source": [
    "from sklearn.feature_extraction.text import CountVectorizer\n",
    "v = CountVectorizer()\n",
    "v.fit(X)\n",
    "X_train_dtm = v.transform(X)\n",
    "print(X_train_dtm)\n"
   ]
  },
  {
   "cell_type": "code",
   "execution_count": 10,
   "metadata": {
    "execution": {
     "iopub.execute_input": "2021-02-17T14:23:12.502751Z",
     "iopub.status.busy": "2021-02-17T14:23:12.501789Z",
     "iopub.status.idle": "2021-02-17T14:23:12.523421Z",
     "shell.execute_reply": "2021-02-17T14:23:12.523948Z"
    },
    "papermill": {
     "duration": 0.038607,
     "end_time": "2021-02-17T14:23:12.524161",
     "exception": false,
     "start_time": "2021-02-17T14:23:12.485554",
     "status": "completed"
    },
    "tags": []
   },
   "outputs": [
    {
     "name": "stdout",
     "output_type": "stream",
     "text": [
      "CPU times: user 4.91 ms, sys: 0 ns, total: 4.91 ms\n",
      "Wall time: 5.9 ms\n"
     ]
    },
    {
     "data": {
      "text/plain": [
       "MultinomialNB()"
      ]
     },
     "execution_count": 10,
     "metadata": {},
     "output_type": "execute_result"
    }
   ],
   "source": [
    "from sklearn.naive_bayes import MultinomialNB\n",
    "nb = MultinomialNB()\n",
    "%time nb.fit(X_train_dtm,Y)"
   ]
  },
  {
   "cell_type": "code",
   "execution_count": 11,
   "metadata": {
    "execution": {
     "iopub.execute_input": "2021-02-17T14:23:12.577863Z",
     "iopub.status.busy": "2021-02-17T14:23:12.572900Z",
     "iopub.status.idle": "2021-02-17T14:23:12.636117Z",
     "shell.execute_reply": "2021-02-17T14:23:12.635580Z"
    },
    "papermill": {
     "duration": 0.096825,
     "end_time": "2021-02-17T14:23:12.636300",
     "exception": false,
     "start_time": "2021-02-17T14:23:12.539475",
     "status": "completed"
    },
    "tags": []
   },
   "outputs": [
    {
     "name": "stdout",
     "output_type": "stream",
     "text": [
      "<class 'numpy.ndarray'>\n"
     ]
    },
    {
     "data": {
      "text/html": [
       "<div>\n",
       "<style scoped>\n",
       "    .dataframe tbody tr th:only-of-type {\n",
       "        vertical-align: middle;\n",
       "    }\n",
       "\n",
       "    .dataframe tbody tr th {\n",
       "        vertical-align: top;\n",
       "    }\n",
       "\n",
       "    .dataframe thead th {\n",
       "        text-align: right;\n",
       "    }\n",
       "</style>\n",
       "<table border=\"1\" class=\"dataframe\">\n",
       "  <thead>\n",
       "    <tr style=\"text-align: right;\">\n",
       "      <th></th>\n",
       "      <th>id</th>\n",
       "      <th>target</th>\n",
       "    </tr>\n",
       "  </thead>\n",
       "  <tbody>\n",
       "    <tr>\n",
       "      <th>0</th>\n",
       "      <td>0</td>\n",
       "      <td>1</td>\n",
       "    </tr>\n",
       "    <tr>\n",
       "      <th>1</th>\n",
       "      <td>2</td>\n",
       "      <td>1</td>\n",
       "    </tr>\n",
       "    <tr>\n",
       "      <th>2</th>\n",
       "      <td>3</td>\n",
       "      <td>1</td>\n",
       "    </tr>\n",
       "    <tr>\n",
       "      <th>3</th>\n",
       "      <td>9</td>\n",
       "      <td>1</td>\n",
       "    </tr>\n",
       "    <tr>\n",
       "      <th>4</th>\n",
       "      <td>11</td>\n",
       "      <td>1</td>\n",
       "    </tr>\n",
       "    <tr>\n",
       "      <th>...</th>\n",
       "      <td>...</td>\n",
       "      <td>...</td>\n",
       "    </tr>\n",
       "    <tr>\n",
       "      <th>3258</th>\n",
       "      <td>10861</td>\n",
       "      <td>1</td>\n",
       "    </tr>\n",
       "    <tr>\n",
       "      <th>3259</th>\n",
       "      <td>10865</td>\n",
       "      <td>1</td>\n",
       "    </tr>\n",
       "    <tr>\n",
       "      <th>3260</th>\n",
       "      <td>10868</td>\n",
       "      <td>1</td>\n",
       "    </tr>\n",
       "    <tr>\n",
       "      <th>3261</th>\n",
       "      <td>10874</td>\n",
       "      <td>1</td>\n",
       "    </tr>\n",
       "    <tr>\n",
       "      <th>3262</th>\n",
       "      <td>10875</td>\n",
       "      <td>1</td>\n",
       "    </tr>\n",
       "  </tbody>\n",
       "</table>\n",
       "<p>3263 rows × 2 columns</p>\n",
       "</div>"
      ],
      "text/plain": [
       "         id  target\n",
       "0         0       1\n",
       "1         2       1\n",
       "2         3       1\n",
       "3         9       1\n",
       "4        11       1\n",
       "...     ...     ...\n",
       "3258  10861       1\n",
       "3259  10865       1\n",
       "3260  10868       1\n",
       "3261  10874       1\n",
       "3262  10875       1\n",
       "\n",
       "[3263 rows x 2 columns]"
      ]
     },
     "execution_count": 11,
     "metadata": {},
     "output_type": "execute_result"
    }
   ],
   "source": [
    "X_test_dtm = v.transform(tweets2.clean)\n",
    "y_pred_class = nb.predict(X_test_dtm)\n",
    "print(type(y_pred_class))\n",
    "sub = pd.DataFrame()\n",
    "sub['id'] = tweets2.id\n",
    "sub['target'] = pd.Series(y_pred_class)\n",
    "\n",
    "sub\n"
   ]
  },
  {
   "cell_type": "code",
   "execution_count": 12,
   "metadata": {
    "execution": {
     "iopub.execute_input": "2021-02-17T14:23:12.671629Z",
     "iopub.status.busy": "2021-02-17T14:23:12.670918Z",
     "iopub.status.idle": "2021-02-17T14:23:12.685023Z",
     "shell.execute_reply": "2021-02-17T14:23:12.684352Z"
    },
    "papermill": {
     "duration": 0.034314,
     "end_time": "2021-02-17T14:23:12.685214",
     "exception": false,
     "start_time": "2021-02-17T14:23:12.650900",
     "status": "completed"
    },
    "tags": []
   },
   "outputs": [],
   "source": [
    "tweets2['prediction'] = sub.target\n",
    "tweets2\n",
    "sub.to_csv('./submission.csv', index = False)"
   ]
  }
 ],
 "metadata": {
  "kernelspec": {
   "display_name": "Python 3",
   "language": "python",
   "name": "python3"
  },
  "language_info": {
   "codemirror_mode": {
    "name": "ipython",
    "version": 3
   },
   "file_extension": ".py",
   "mimetype": "text/x-python",
   "name": "python",
   "nbconvert_exporter": "python",
   "pygments_lexer": "ipython3",
   "version": "3.7.9"
  },
  "papermill": {
   "default_parameters": {},
   "duration": 11.902326,
   "end_time": "2021-02-17T14:23:13.611304",
   "environment_variables": {},
   "exception": null,
   "input_path": "__notebook__.ipynb",
   "output_path": "__notebook__.ipynb",
   "parameters": {},
   "start_time": "2021-02-17T14:23:01.708978",
   "version": "2.2.2"
  }
 },
 "nbformat": 4,
 "nbformat_minor": 4
}
